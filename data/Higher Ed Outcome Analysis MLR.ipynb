{
 "cells": [
  {
   "cell_type": "markdown",
   "metadata": {},
   "source": [
    "# Multiple Linear Regression (MLR) Analysis\n",
    "\n",
    "This notebook applies **Multiple Linear Regression (MLR)** to analyze the relationship between institutional characteristics and median earnings 10 years after enrollment. Unlike the Random Forest model, MLR provides interpretable coefficients, allowing us to quantify the influence of each feature on earnings in a linear fashion.\n",
    "\n",
    "### Objective\n",
    "\n",
    "The goal of this analysis is to:\n",
    "1. Identify and quantify key factors that influence median earnings.\n",
    "2. Interpret the direction and magnitude of each feature’s effect on the target variable.\n",
    "3. Use MLR as a baseline for comparison with more complex models, such as the Random Forest, to assess trade-offs between interpretability and predictive accuracy.\n",
    "\n",
    "### Approach\n",
    "\n",
    "This analysis includes:\n",
    "- Data preparation, including any transformations or scaling needed to optimize MLR performance.\n",
    "- Model training and evaluation, focusing on interpreting the regression coefficients.\n",
    "- Discussion of the implications of significant features, providing insights for institutions and policymakers.\n",
    "\n",
    "This MLR model is a critical part of the overall project, as it offers an interpretable baseline model against which the performance of more complex models can be assessed.\n",
    "\n",
    "---\n"
   ]
  },
  {
   "cell_type": "markdown",
   "metadata": {},
   "source": [
    "## Data Preparation\n",
    "\n",
    "To ensure consistency in our analysis, we replicate the data cleaning steps directly within this notebook. This includes handling missing values, creating new features, and performing any transformations necessary for optimal model performance.\n",
    "\n",
    "The specific steps in this data preparation process are:\n",
    "1. **Handling Missing Values**: Replacing or dropping missing values to ensure a complete dataset.\n",
    "2. **Feature Engineering**: Creating new features, such as combining related variables or creating binary indicators, to enhance the model’s predictive power.\n",
    "3. **Data Transformation**: Scaling or encoding variables as needed to align with the requirements of Multiple Linear Regression.\n",
    "\n",
    "By replicating the data cleaning process, we maintain independence between this notebook and other models, ensuring reproducibility and a consistent methodology.\n"
   ]
  },
  {
   "cell_type": "code",
   "execution_count": null,
   "metadata": {},
   "outputs": [],
   "source": [
    "# Imports\n",
    "import pandas as pd\n",
    "import numpy as np\n",
    "from matplotlib import pyplot as plt\n",
    "import seaborn as sns\n",
    "from statsmodels.stats.outliers_influence import variance_inflation_factor\n",
    "import statsmodels.api as sm"
   ]
  },
  {
   "cell_type": "code",
   "execution_count": null,
   "metadata": {},
   "outputs": [],
   "source": [
    "# Importing dataset\n",
    "df = pd.read_csv('C:/Users/ajten/Downloads/College_Scorecard_Raw_Data_10022024/College_Scorecard_Raw_Data_09242024/MERGED2014_15_PP.csv')\n",
    "df.info()\n",
    "df.describe()\n",
    "\n",
    "# Variables to keep \n",
    "variables = [\n",
    "    'CONTROL', 'UGDS','AVGFACSAL', 'PCTPELL', 'COSTT4_A', 'COSTT4_P', 'MD_FAMINC',\n",
    "    'MD_EARN_WNE_P10', 'INEXPFTE', 'C150_4', 'C150_L4', 'PCTFLOAN', 'DEBT_MDN', \n",
    "    'PCIP14', 'PCIP11', 'PCIP15', 'PCIP52', 'STUFACR'\n",
    "]\n",
    "\n",
    "# Subset the dataframe\n",
    "df = df[variables]\n",
    "\n",
    "# Display the shape of the dataset\n",
    "print(\"Dataset shape:\", df.shape)"
   ]
  },
  {
   "cell_type": "code",
   "execution_count": null,
   "metadata": {},
   "outputs": [],
   "source": [
    "df.info()"
   ]
  },
  {
   "cell_type": "code",
   "execution_count": null,
   "metadata": {},
   "outputs": [],
   "source": [
    "df.isnull().sum()"
   ]
  },
  {
   "cell_type": "code",
   "execution_count": null,
   "metadata": {},
   "outputs": [],
   "source": [
    "for col in df.columns:\n",
    "    if 'PS' in df[col].values:\n",
    "        print(f\"Column '{col}' contains 'PS'\")"
   ]
  },
  {
   "cell_type": "code",
   "execution_count": null,
   "metadata": {},
   "outputs": [],
   "source": [
    "# List of columns that might contain 'PrivacySuppressed'\n",
    "columns_to_clean = ['MD_EARN_WNE_P10', 'MD_FAMINC', 'DEBT_MDN']\n",
    "\n",
    "# Replace 'PrivacySuppressed (PS)' with NaN\n",
    "df[columns_to_clean] = df[columns_to_clean].replace('PS', np.nan)\n",
    "\n",
    "# Convert the columns to numeric\n",
    "for col in columns_to_clean:\n",
    "    df[col] = pd.to_numeric(df[col], errors='coerce')\n",
    "\n",
    "# Drop rows where any NaN values exist in the specified columns to clean\n",
    "df_clean = df.dropna(subset=columns_to_clean).copy()"
   ]
  },
  {
   "cell_type": "code",
   "execution_count": null,
   "metadata": {},
   "outputs": [],
   "source": [
    "df_clean.isnull().sum()"
   ]
  },
  {
   "cell_type": "code",
   "execution_count": null,
   "metadata": {},
   "outputs": [],
   "source": [
    "# Create a general completion rate variable that combines C150_4 and C150_L4\n",
    "df_clean['completion_rate'] = df_clean['C150_4'].combine_first(df_clean['C150_L4'])\n",
    "\n",
    "# Create a general completion rate variable that combines C150_4 and C150_L4\n",
    "df_clean['avg_attendance'] = df_clean['COSTT4_A'].combine_first(df_clean['COSTT4_P'])\n",
    "\n",
    "# Handle missing values in critical variables and make a copy\n",
    "critical_vars = ['UGDS','AVGFACSAL','PCTPELL','INEXPFTE', 'completion_rate', 'avg_attendance', 'DEBT_MDN']\n",
    "df_clean = df_clean.dropna(subset=critical_vars).copy()\n",
    "\n",
    "# Create binary variable for institution type\n",
    "# 0 = Public, 1 = Private (combining nonprofit and for-profit)\n",
    "df_clean['public_private'] = df_clean['CONTROL'].apply(lambda x: 0 if x == 1 else 1)\n",
    "\n",
    "# Dropping redundant variables\n",
    "df3 = df_clean.drop(['CONTROL','C150_4', 'C150_L4', 'COSTT4_A', 'COSTT4_P'], axis=1)\n",
    "\n",
    "df3.isnull().sum()"
   ]
  },
  {
   "cell_type": "code",
   "execution_count": null,
   "metadata": {},
   "outputs": [],
   "source": [
    "# Final dataset\n",
    "print(\"Cleaned Dataset Shape:\", df3.shape)\n",
    "df3.info()"
   ]
  },
  {
   "cell_type": "markdown",
   "metadata": {},
   "source": [
    "## Exploratory Data Analysis (EDA)\n",
    "\n",
    "For this analysis, we performed a streamlined EDA focusing on descriptive statistics and correlation analysis to identify potential relationships between institutional characteristics and median earnings 10 years after enrollment.\n",
    "\n",
    "### Descriptive Statistics\n",
    "\n",
    "We began with descriptive statistics to understand the distribution, central tendency, and variability of each variable. This provides an overview of the data, allowing us to identify any features with high variance or unusual distributions that may influence the model’s performance.\n",
    "\n",
    "### Correlation Matrix\n",
    "\n",
    "The correlation matrix heatmap displays the pairwise correlations between all variables in the dataset. This analysis helps identify features with strong linear relationships with the target variable (`MD_EARN_WNE_P10`) and among themselves, providing insights into which variables might be more influential in predicting median earnings.\n",
    "\n",
    "#### Key Observations:\n",
    "- **Strong Positive Correlations**: `MD_FAMINC` (Family Income) and `AVGFACSAL` (Average Faculty Salary) have high positive correlations with median earnings, suggesting these socioeconomic and institutional factors are closely tied to graduate outcomes.\n",
    "- **Strong Negative Correlation**: `PCTPELL` (Percentage of Pell Grant Recipients) shows a notable negative correlation with median earnings, indicating that institutions with higher proportions of Pell Grant recipients generally have lower post-graduation earnings among their graduates.\n",
    "- **Moderate Correlations**: Features like `avg_attendance` (Average Cost of Attendance), `DEBT_MDN` (Median Debt), and `STEM_Index` show moderate positive correlations with median earnings, which might indicate their relevance to the model.\n",
    "\n",
    "This initial analysis highlights the features that could have the most significant impact on median earnings, setting the stage for the subsequent regression analysis.\n"
   ]
  },
  {
   "cell_type": "code",
   "execution_count": null,
   "metadata": {},
   "outputs": [],
   "source": [
    "# Descriptive statistics\n",
    "print(\"Descriptive Statistics:\")\n",
    "print(df3[['public_private', 'UGDS','AVGFACSAL', 'PCTPELL', 'avg_attendance', 'MD_FAMINC',\n",
    "    'MD_EARN_WNE_P10', 'INEXPFTE', 'completion_rate', 'PCTFLOAN', 'DEBT_MDN', \n",
    "    'PCIP14', 'PCIP11', 'PCIP15', 'PCIP52', 'STUFACR']].describe())"
   ]
  },
  {
   "cell_type": "code",
   "execution_count": null,
   "metadata": {},
   "outputs": [],
   "source": [
    "# Correlation matrix\n",
    "corr_vars = ['public_private', 'UGDS','AVGFACSAL', 'PCTPELL', 'avg_attendance', 'MD_FAMINC',\n",
    "    'MD_EARN_WNE_P10', 'INEXPFTE', 'completion_rate', 'PCTFLOAN', 'DEBT_MDN', \n",
    "    'PCIP14', 'PCIP11', 'PCIP15', 'PCIP52', 'STUFACR']\n",
    "corr_matrix = df3[corr_vars].corr()\n",
    "\n",
    "print(\"Correlation Matrix:\")\n",
    "print(corr_matrix)\n",
    "\n",
    "# Heatmap of the correlation matrix\n",
    "plt.figure(figsize=(8, 6))\n",
    "sns.heatmap(corr_matrix, annot=True, cmap='mako')\n",
    "plt.title('Correlation Matrix Heatmap')\n",
    "plt.show()"
   ]
  },
  {
   "cell_type": "markdown",
   "metadata": {},
   "source": [
    "## Discretization and Transformations\n",
    "\n",
    "To address skewness and scale differences in the data, we applied several transformations to specific variables. These transformations help ensure that the features align more closely with the assumptions of linear regression, improving model performance and interpretability.\n",
    "\n",
    "### Log Transformations\n",
    "Due to right-skewed distributions, we applied a log transformation to certain continuous variables. The log transformation helps reduce skewness, making the data more symmetric and suitable for linear modeling. The following features were log-transformed:\n",
    "- **UGDS**: Undergraduate enrollment.\n",
    "- **AVGFACSAL**: Average faculty salary.\n",
    "- **MD_FAMINC**: Median family income.\n",
    "- **INEXPFTE**: Instructional expenditure per full-time equivalent student.\n",
    "- **avg_attendance**: Average cost of attendance.\n",
    "- **DEBT_MDN**: Median debt of graduates.\n",
    "- **MD_EARN_WNE_P10**: Median earnings 10 years after enrollment (target variable).\n",
    "\n",
    "### Data Filtering\n",
    "After the log transformation, we observed that certain rows in `MD_FAMINC_log` (transformed family income) still exhibited skew. To address this, we filtered out rows where `MD_FAMINC_log` was below 0.6, improving the distribution of the data and reducing the impact of extreme outliers.\n",
    "\n",
    "### Distribution Visualization\n",
    "Finally, we plotted histograms for key features to verify the effectiveness of the transformations. The improved distributions confirm that the transformations were successful in reducing skew and preparing the data for modeling.\n",
    "\n"
   ]
  },
  {
   "cell_type": "code",
   "execution_count": null,
   "metadata": {},
   "outputs": [],
   "source": [
    "df3['UGDS_log'] = np.log1p(df3['UGDS'])\n",
    "df3['AVGFACSAL_log'] = np.log1p(df3['AVGFACSAL'])\n",
    "df3['MD_FAMINC_log'] = np.log1p(df3['MD_FAMINC'])\n",
    "df3['INEXPFTE_log'] = np.log1p(df3['INEXPFTE'])\n",
    "df3['avg_attendance_log'] = np.log1p(df3['avg_attendance'])\n",
    "df3['DEBT_MDN_log'] = np.log1p(df3['DEBT_MDN'])\n",
    "df3['MD_EARN_WNE_P10_log'] = np.log1p(df3['MD_EARN_WNE_P10'])"
   ]
  },
  {
   "cell_type": "code",
   "execution_count": null,
   "metadata": {},
   "outputs": [],
   "source": [
    "# Remove rows where MD_FAMINC_log is below 0.6\n",
    "df3 = df3[df3['MD_FAMINC_log'] >= 0.6]"
   ]
  },
  {
   "cell_type": "code",
   "execution_count": null,
   "metadata": {},
   "outputs": [],
   "source": [
    "# Sum of proportions of degrees in Engineering, Computer Science, and other STEM fields\n",
    "df3['STEM_Index'] = df3['PCIP14'] + df3['PCIP11'] + df3['PCIP15'] + df3['PCIP52']\n",
    "\n",
    "# Plot histograms to check distribution\n",
    "df3[['public_private', 'UGDS_log','AVGFACSAL_log', 'PCTPELL', 'avg_attendance_log', 'MD_FAMINC_log',\n",
    "    'INEXPFTE_log', 'completion_rate', 'PCTFLOAN', 'DEBT_MDN_log', 'STEM_Index',\n",
    "    'STUFACR', 'MD_EARN_WNE_P10_log']].hist(bins=30, figsize=(10, 8),edgecolor='black')\n",
    "plt.subplots_adjust(hspace=0.5, wspace=0.4)\n",
    "plt.show()"
   ]
  },
  {
   "cell_type": "markdown",
   "metadata": {},
   "source": [
    "## Multicollinearity Assessment and Feature Selection/Reduction\n",
    "\n",
    "To ensure that our model is stable and interpretable, we assessed multicollinearity among the features using the **Variance Inflation Factor (VIF)**. High multicollinearity can inflate the standard errors of coefficients, making it difficult to determine the independent effect of each feature on the target variable.\n",
    "\n",
    "### Variance Inflation Factor (VIF)\n",
    "\n",
    "The VIF for each feature was calculated as follows:\n",
    "- **VIF < 5**: Indicates low multicollinearity, suggesting the feature can be reliably included in the model.\n",
    "- **VIF >= 5**: Indicates high multicollinearity, suggesting the feature may be redundant and could distort model interpretation.\n",
    "\n",
    "#### Key Findings:\n",
    "- Most features have VIF values below 5, indicating acceptable levels of multicollinearity for this analysis.\n",
    "- The `DEBT_MDN_log` feature shows a slightly higher VIF (around 3.73), but it remains below the commonly used threshold of 5, so it was retained.\n",
    "- The constant term (added for model stability) has a high VIF, but this is typical and does not affect the interpretation of other features.\n",
    "\n",
    "This assessment confirms that the features included in the model do not exhibit problematic multicollinearity, allowing us to proceed with a stable and interpretable Multiple Linear Regression model.\n"
   ]
  },
  {
   "cell_type": "code",
   "execution_count": null,
   "metadata": {},
   "outputs": [],
   "source": [
    "# Recalculating VIF\n",
    "X = df3[['UGDS_log','AVGFACSAL_log', 'PCTPELL', 'avg_attendance_log', 'MD_FAMINC_log',\n",
    "    'completion_rate','DEBT_MDN_log', 'STEM_Index', 'INEXPFTE_log']]\n",
    "\n",
    "X = X.assign(const=1)\n",
    "\n",
    "# Calculate VIF for each feature\n",
    "vif_data = pd.DataFrame()\n",
    "vif_data['Feature'] = X.columns\n",
    "vif_data['VIF'] = [variance_inflation_factor(X.values, i) for i in range(len(X.columns))]\n",
    "\n",
    "print(\"Variance Inflation Factors:\")\n",
    "print(vif_data)"
   ]
  },
  {
   "cell_type": "markdown",
   "metadata": {},
   "source": [
    "## Multiple Linear Regression (MLR) Analysis\n",
    "\n",
    "To quantify the relationship between institutional characteristics and median earnings 10 years after enrollment, we applied **Ordinary Least Squares (OLS) Regression**. This model provides interpretable coefficients that allow us to understand the impact of each feature on the target variable (`MD_EARN_WNE_P10_log`)."
   ]
  },
  {
   "cell_type": "code",
   "execution_count": null,
   "metadata": {},
   "outputs": [],
   "source": [
    "# Define X with only the main effect variables\n",
    "X = df3[['UGDS_log','AVGFACSAL_log', 'PCTPELL', 'avg_attendance_log', 'MD_FAMINC_log',\n",
    "    'completion_rate','DEBT_MDN_log', 'STEM_Index', 'INEXPFTE_log']]\n",
    "X = sm.add_constant(X)  # Adds an intercept to the model\n",
    "\n",
    "# Define the target variable (log-transformed)\n",
    "y = df3['MD_EARN_WNE_P10_log']\n",
    "\n",
    "# Fit the MLR model\n",
    "mlr_model = sm.OLS(y, X).fit()\n",
    "\n",
    "# Display the summary of the model results\n",
    "print(mlr_model.summary())\n"
   ]
  },
  {
   "cell_type": "markdown",
   "metadata": {},
   "source": [
    "## Model Summary\n",
    "- **R-squared**: 0.703  \n",
    "  This indicates that approximately 70.3% of the variance in median earnings (log-transformed) is explained by the features in the model.\n",
    "- **Adjusted R-squared**: 0.702  \n",
    "  Similar to the R-squared, this adjusted measure accounts for the number of predictors in the model and suggests a strong fit.\n",
    "- **F-statistic**: 937.3 (p < 0.001)  \n",
    "  A highly significant F-statistic indicates that the model as a whole is statistically significant.\n",
    "\n",
    "### Coefficients and Interpretation\n",
    "Below are the key features with their coefficients, t-statistics, and p-values. Significant coefficients (p < 0.05) indicate a statistically meaningful relationship with the target variable.\n",
    "\n",
    "- **Constant (Intercept)**: 6.218  \n",
    "  Represents the baseline log-transformed earnings when all predictor variables are zero.\n",
    "\n",
    "- **UGDS_log** (Undergraduate enrollment): 0.028 (p < 0.001)  \n",
    "  A positive coefficient suggests that higher undergraduate enrollment is associated with slightly higher median earnings.\n",
    "\n",
    "- **AVGFACSAL_log** (Average faculty salary): 0.132 (p < 0.001)  \n",
    "  Higher faculty salaries are positively associated with graduate earnings, likely reflecting institutional quality.\n",
    "\n",
    "- **PCTPELL** (Percentage of Pell Grant recipients): -0.288 (p < 0.001)  \n",
    "  This negative coefficient indicates that institutions with higher proportions of Pell Grant recipients tend to have lower median earnings, potentially reflecting socioeconomic disparities.\n",
    "\n",
    "- **avg_attendance_log** (Average cost of attendance): 0.088 (p < 0.001)  \n",
    "  Higher attendance costs are associated with higher earnings, possibly indicating that more expensive institutions offer higher returns.\n",
    "\n",
    "- **MD_FAMINC_log** (Median family income): 0.111 (p < 0.001)  \n",
    "  Family income is positively correlated with earnings, suggesting that socioeconomic background influences long-term outcomes.\n",
    "\n",
    "- **completion_rate**: 0.043 (p = 0.009)  \n",
    "  Higher completion rates are modestly associated with higher earnings, underscoring the value of student success and retention programs.\n",
    "\n",
    "- **DEBT_MDN_log** (Median debt): 0.077 (p < 0.001)  \n",
    "  Although debt has a positive association with earnings, it likely represents investment in education that correlates with improved outcomes.\n",
    "\n",
    "- **INEXPFTE_log** (Instructional expenditure per FTE): 0.024 (p < 0.001)  \n",
    "  Higher instructional spending per student correlates with improved earnings, potentially reflecting institutional resources and educational quality.\n",
    "\n",
    "### Model Diagnostics\n",
    "- **Durbin-Watson Statistic**: 1.682  \n",
    "  Indicates no serious autocorrelation in residuals, suggesting that the error terms are independent.\n",
    "- **Omnibus and Jarque-Bera Tests**: Significant values indicate slight skewness and kurtosis in residuals, which may affect normality assumptions but are within tolerable limits.\n",
    "\n",
    "## Conclusion\n",
    "This Multiple Linear Regression model highlights key institutional and socioeconomic factors associated with earnings outcomes. The positive relationships with faculty salary, family income, and instructional spending underscore the importance of resources in influencing graduate earnings. Conversely, the negative association with Pell Grant percentages suggests areas where institutions can work to improve outcomes for low-income students.\n"
   ]
  }
 ],
 "metadata": {
  "kernelspec": {
   "display_name": "envPython312",
   "language": "python",
   "name": "python3"
  },
  "language_info": {
   "codemirror_mode": {
    "name": "ipython",
    "version": 3
   },
   "file_extension": ".py",
   "mimetype": "text/x-python",
   "name": "python",
   "nbconvert_exporter": "python",
   "pygments_lexer": "ipython3",
   "version": "3.12.5"
  }
 },
 "nbformat": 4,
 "nbformat_minor": 2
}
