{
 "cells": [
  {
   "cell_type": "markdown",
   "metadata": {},
   "source": [
    "# Higher Education Outcomes Analysis\n",
    "\n",
    "## 📄 Project Overview\n",
    "This project aims to analyze factors impacting the median earnings of college graduates ten years after enrollment. Using data from the U.S. Department of Education's College Scorecard, we examine various institutional characteristics, such as cost of attendance and institution type, to understand their effects on student outcomes.\n",
    "\n",
    "---"
   ]
  },
  {
   "cell_type": "markdown",
   "metadata": {},
   "source": [
    "## Imports"
   ]
  },
  {
   "cell_type": "code",
   "execution_count": null,
   "metadata": {},
   "outputs": [],
   "source": [
    "# Importing necessary libraries for data manipulation, visualization, and modeling\n",
    "import pandas as pd\n",
    "import numpy as np\n",
    "from matplotlib import pyplot as plt\n",
    "import seaborn as sns\n",
    "\n",
    "# Additional imports for statistical analysis and machine learning\n",
    "from sklearn.model_selection import train_test_split, cross_val_score, RandomizedSearchCV\n",
    "from sklearn.metrics import mean_squared_error, r2_score\n",
    "from sklearn.ensemble import RandomForestRegressor\n",
    "import joblib"
   ]
  },
  {
   "cell_type": "markdown",
   "metadata": {},
   "source": [
    "## Data Loading and Initial Exploration\n",
    "\n",
    "To start, we’ll load the College Scorecard dataset to understand its structure and get an overview of the data available for analysis. This includes examining the dataset size, columns, data types, and checking for missing values.\n"
   ]
  },
  {
   "cell_type": "code",
   "execution_count": null,
   "metadata": {},
   "outputs": [],
   "source": [
    "# Importing dataset\n",
    "df = pd.read_csv('C:/Users/ajten/Downloads/College_Scorecard_Raw_Data_10022024/College_Scorecard_Raw_Data_09242024/MERGED2014_15_PP.csv')\n",
    "\n",
    "# Variables to keep \n",
    "variables = [\n",
    "    'CONTROL', 'UGDS','AVGFACSAL', 'PCTPELL', 'COSTT4_A', 'COSTT4_P', 'MD_FAMINC',\n",
    "    'MD_EARN_WNE_P10', 'INEXPFTE', 'C150_4', 'C150_L4', 'PCTFLOAN', 'DEBT_MDN', \n",
    "    'PCIP14', 'PCIP11', 'PCIP15', 'PCIP52', 'STUFACR'\n",
    "]\n",
    "\n",
    "# Subset the dataframe\n",
    "df = df[variables]\n",
    "\n",
    "# Shows data types, non-null counts, and memory usage\n",
    "df.info()"
   ]
  },
  {
   "cell_type": "markdown",
   "metadata": {},
   "source": [
    "## Data Cleaning\n",
    "\n",
    "This section prepares the data by handling missing values, converting data types, and creating new variables.\n"
   ]
  },
  {
   "cell_type": "code",
   "execution_count": null,
   "metadata": {},
   "outputs": [],
   "source": [
    "for col in df.columns:\n",
    "    if 'PS' in df[col].values:\n",
    "        print(f\"Column '{col}' contains 'PS'\")"
   ]
  },
  {
   "cell_type": "code",
   "execution_count": null,
   "metadata": {},
   "outputs": [],
   "source": [
    "# Replace 'PrivacySuppressed' (PS) with NaN and convert to numeric\n",
    "columns_to_clean = ['MD_EARN_WNE_P10', 'MD_FAMINC', 'DEBT_MDN']\n",
    "df[columns_to_clean] = df[columns_to_clean].replace('PS', np.nan)\n",
    "for col in columns_to_clean:\n",
    "    df[col] = pd.to_numeric(df[col], errors='coerce')\n",
    "\n",
    "# Drop rows where any NaN values exist in the specified columns to clean\n",
    "df_clean = df.dropna(subset=columns_to_clean).copy()\n",
    "\n",
    "# Create new variables for completion rate and attendance cost\n",
    "df_clean['completion_rate'] = df_clean['C150_4'].combine_first(df_clean['C150_L4'])\n",
    "df_clean['avg_attendance'] = df_clean['COSTT4_A'].combine_first(df_clean['COSTT4_P'])\n",
    "\n",
    "# Handle missing values in critical variables and make a copy\n",
    "critical_vars = ['UGDS','AVGFACSAL','PCTPELL','INEXPFTE', 'completion_rate', 'avg_attendance', 'DEBT_MDN']\n",
    "df_clean = df_clean.dropna(subset=critical_vars).copy()\n",
    "\n",
    "# Binary institution type (public/private) and STEM Index\n",
    "df_clean['public_private'] = df_clean['CONTROL'].apply(lambda x: 0 if x == 1 else 1)\n",
    "df_clean['STEM_Index'] = df_clean['PCIP14'] + df_clean['PCIP11'] + df_clean['PCIP15'] + df_clean['PCIP52']\n",
    "\n",
    "# Drop redundant columns\n",
    "df3 = df_clean.drop(['CONTROL', 'C150_4', 'C150_L4', 'COSTT4_A', 'COSTT4_P'], axis=1)\n",
    "\n",
    "# Final check on cleaned dataset\n",
    "print(\"Cleaned Dataset Shape:\", df3.shape)\n",
    "df3.info()"
   ]
  },
  {
   "cell_type": "markdown",
   "metadata": {},
   "source": [
    "## Exploratory Data Analysis (EDA)\n",
    "\n",
    "In this section, we explore patterns and relationships in the data to understand factors that may influence **median earnings 10 years after entry**. We use visualizations to examine distribution and relationships between key variables.\n"
   ]
  },
  {
   "cell_type": "code",
   "execution_count": null,
   "metadata": {},
   "outputs": [],
   "source": [
    "# Descriptive statistics\n",
    "print(\"Descriptive Statistics:\")\n",
    "print(df3[['public_private', 'UGDS','AVGFACSAL', 'PCTPELL', 'avg_attendance', 'MD_FAMINC',\n",
    "    'MD_EARN_WNE_P10', 'INEXPFTE', 'completion_rate', 'PCTFLOAN', 'DEBT_MDN', \n",
    "    'PCIP14', 'PCIP11', 'PCIP15', 'PCIP52', 'STUFACR']].describe())"
   ]
  },
  {
   "cell_type": "markdown",
   "metadata": {},
   "source": [
    "### Figure 1: Distribution of Median Earnings 10 Years After Entry\n",
    "\n",
    "This histogram shows the distribution of median earnings 10 years after enrollment. The data appears right-skewed, with most institutions clustering around earnings between $30,000 and $50,000.\n"
   ]
  },
  {
   "cell_type": "code",
   "execution_count": null,
   "metadata": {},
   "outputs": [],
   "source": [
    "# Code for Figure 1: Distribution of Median Earnings\n",
    "sns.histplot(df3['MD_EARN_WNE_P10'], bins=30, kde=True)\n",
    "plt.title('Figure 1: Distribution of Median Earnings 10 Years After Entry')\n",
    "plt.xlabel('Median Earnings 10 Years After Entry ($)')\n",
    "plt.ylabel('Frequency')\n",
    "plt.show()"
   ]
  },
  {
   "cell_type": "markdown",
   "metadata": {},
   "source": [
    "### Figure 2: Median Earnings by Institution Type\n",
    "\n",
    "This box plot compares median earnings for graduates of public and private institutions. While there is some overlap, private institutions generally exhibit a slightly higher median earnings range, though with a broader spread and more outliers at the higher end.\n"
   ]
  },
  {
   "cell_type": "code",
   "execution_count": null,
   "metadata": {},
   "outputs": [],
   "source": [
    "# Code for Figure 2: Median Earnings by Institution Type\n",
    "sns.boxplot(x='public_private', y='MD_EARN_WNE_P10', data=df3)\n",
    "plt.title(\"Figure 2: Median Earnings by Institution Type\")\n",
    "plt.xlabel(\"Institution Type (0 = Public, 1 = Private)\")\n",
    "plt.ylabel(\"Median Earnings 10 Years After Entry ($)\")\n",
    "plt.show()"
   ]
  },
  {
   "cell_type": "markdown",
   "metadata": {},
   "source": [
    "### Figure 3: Average Cost of Attendance by Institution Type\n",
    "\n",
    "This bar plot shows that private institutions have a significantly higher average cost of attendance compared to public institutions. This difference in cost might play a role in the differences in median earnings between institution types.\n"
   ]
  },
  {
   "cell_type": "code",
   "execution_count": null,
   "metadata": {},
   "outputs": [],
   "source": [
    "# Code for Figure 3: Average Cost of Attendance by Institution Type\n",
    "sns.barplot(x='public_private', y='avg_attendance', data=df3)\n",
    "plt.title(\"Figure 3: Average Cost of Attendance by Institution Type\")\n",
    "plt.xlabel(\"Institution Type\")\n",
    "plt.ylabel(\"Average Cost of Attendance ($)\")\n",
    "plt.show()"
   ]
  },
  {
   "cell_type": "markdown",
   "metadata": {},
   "source": [
    "### Figure 4: Average Faculty Salary vs. Median Earnings by Institution Type\n",
    "\n",
    "This scatter plot displays the relationship between average faculty salary and median earnings, colored by institution type. There is a positive trend, suggesting that institutions with higher faculty salaries tend to have higher median earnings among graduates. Private institutions are distributed across a wider range of faculty salaries.\n"
   ]
  },
  {
   "cell_type": "code",
   "execution_count": null,
   "metadata": {},
   "outputs": [],
   "source": [
    "# Code for Figure 4: Average Faculty Salary vs. Median Earnings by Institution Type\n",
    "sns.scatterplot(x='AVGFACSAL', y='MD_EARN_WNE_P10', hue='public_private', data=df3)\n",
    "plt.title(\"Figure 4: Average Faculty Salary vs. Median Earnings by Institution Type\")\n",
    "plt.xlabel(\"Average Faculty Salary ($)\")\n",
    "plt.ylabel(\"Median Earnings 10 Years After Entry ($)\")\n",
    "plt.legend(title=\"Institution Type\", labels=[\"Public\", \"Private\"])\n",
    "plt.show()"
   ]
  },
  {
   "cell_type": "markdown",
   "metadata": {},
   "source": [
    "### Figure 5: Median Earnings vs. Family Income\n",
    "\n",
    "This scatter plot shows the relationship between family income and median earnings, with point colors representing the percentage of Pell Grant recipients. There is a positive trend, indicating that higher family income is associated with higher median earnings. Schools with higher Pell Grant recipient percentages are mostly concentrated at the lower end of family income, suggesting that Pell Grants serve lower-income students.\n"
   ]
  },
  {
   "cell_type": "code",
   "execution_count": null,
   "metadata": {},
   "outputs": [],
   "source": [
    "# Code for Figure 5: Median Earnings vs. Family Income\n",
    "plt.scatter(df3['MD_FAMINC'], df3['MD_EARN_WNE_P10'], c=df3['PCTPELL'], cmap='viridis')\n",
    "plt.colorbar(label=\"Percentage of Pell Grant Recipients\")\n",
    "plt.title(\"Figure 5: Median Earnings vs. Family Income\")\n",
    "plt.xlabel(\"Family Income ($)\")\n",
    "plt.ylabel(\"Median Earnings 10 Years After Entry ($)\")\n",
    "plt.show()"
   ]
  },
  {
   "cell_type": "markdown",
   "metadata": {},
   "source": [
    "### Correlation Matrix Heatmap\n",
    "\n",
    "This heatmap shows the correlation coefficients between various features and the target variable, **Median Earnings 10 Years After Entry** (`MD_EARN_WNE_P10`). High positive or negative correlations with `MD_EARN_WNE_P10` indicate strong relationships that might be valuable in our predictive model.\n",
    "\n",
    "- **High Positive Correlations**: `MD_FAMINC` (Family Income) and `AVGFACSAL` (Average Faculty Salary) show strong positive correlations with median earnings, suggesting that students from higher-income families and institutions with higher faculty salaries tend to earn more.\n",
    "- **High Negative Correlations**: `PCTPELL` (Percentage of Pell Grant Recipients) has a notable negative correlation with median earnings, indicating that institutions with a higher proportion of Pell Grant recipients tend to have lower median earnings.\n",
    "- **Other Notable Correlations**: `avg_attendance` (Average Cost of Attendance) and `DEBT_MDN` (Median Debt) also show moderate positive correlations with earnings, potentially reflecting the impact of cost and debt on long-term outcomes.\n",
    "\n",
    "This matrix helps identify key variables to focus on in our predictive model."
   ]
  },
  {
   "cell_type": "code",
   "execution_count": null,
   "metadata": {},
   "outputs": [],
   "source": [
    "# Code for Correlation matrix\n",
    "corr_vars = ['MD_EARN_WNE_P10','public_private', 'UGDS','AVGFACSAL', 'PCTPELL', 'avg_attendance', 'MD_FAMINC',\n",
    "    'INEXPFTE', 'completion_rate', 'PCTFLOAN', 'DEBT_MDN', \n",
    "    'STEM_Index', 'STUFACR']\n",
    "corr_matrix = df3[corr_vars].corr()\n",
    "\n",
    "# Heatmap of the correlation matrix\n",
    "plt.figure(figsize=(8, 6))\n",
    "sns.heatmap(corr_matrix, annot=True, cmap='mako')\n",
    "plt.title('Correlation Matrix Heatmap')\n",
    "plt.show()"
   ]
  },
  {
   "cell_type": "markdown",
   "metadata": {},
   "source": [
    "### EDA Summary\n",
    "\n",
    "- **Median Earnings Distribution**: The distribution of median earnings is right-skewed, with most institutions showing median earnings between $30,000 and $50,000.\n",
    "- **Institution Type**: Private institutions generally have a higher range of median earnings, though they also exhibit more variability and outliers.\n",
    "- **Cost of Attendance**: Private institutions have a significantly higher average cost of attendance compared to public institutions.\n",
    "- **Faculty Salary and Earnings**: There is a positive relationship between average faculty salary and graduate earnings, with higher faculty salaries generally associated with higher median earnings.\n",
    "- **Family Income and Pell Grant Recipients**: Higher family income correlates with higher median earnings. Institutions with a higher percentage of Pell Grant recipients tend to serve lower-income students, which could affect earnings outcomes.\n"
   ]
  },
  {
   "cell_type": "markdown",
   "metadata": {},
   "source": [
    "## Model Training and Evaluation (Random Forest)\n",
    "\n",
    "In this section, we use a **Random Forest Regressor** to predict median earnings 10 years after enrollment based on institutional characteristics. This model helps capture non-linear relationships and interactions between variables.\n"
   ]
  },
  {
   "cell_type": "code",
   "execution_count": null,
   "metadata": {},
   "outputs": [],
   "source": [
    "X = df3[['UGDS','AVGFACSAL', 'PCTPELL', 'avg_attendance', 'MD_FAMINC',\n",
    "    'completion_rate','DEBT_MDN', 'STEM_Index', 'INEXPFTE']] # Removing pub_priv - feature importance\n",
    "y = df3['MD_EARN_WNE_P10']\n",
    "\n",
    "# Split data into train and test sets\n",
    "X_train, X_test, y_train, y_test = train_test_split(X, y, test_size=0.3, random_state=42)\n",
    "\n",
    "# Train Random Forest model\n",
    "rf_model = RandomForestRegressor(n_estimators=100, random_state=42)\n",
    "rf_model.fit(X_train, y_train)\n",
    "\n",
    "# Predictions on the test set\n",
    "y_pred = rf_model.predict(X_test)\n",
    "\n",
    "# Evaluate performance\n",
    "mse = mean_squared_error(y_test, y_pred)\n",
    "rmse = np.sqrt(mse)\n",
    "r2 = r2_score(y_test, y_pred)\n",
    "\n",
    "print(f\"Test Set Mean Squared Error: {mse:.4f}\")\n",
    "print(f\"Test Set Root Mean Squared Error: {rmse:.4f}\")\n",
    "print(f\"Test Set R-squared: {r2:.4f}\")\n",
    "\n",
    "# Cross-validation for robustness (if needed)\n",
    "cv_scores = cross_val_score(rf_model, X, y, cv=5, scoring='r2')\n",
    "print(f\"Cross-Validation R² Scores: {cv_scores}\")\n",
    "print(f\"Mean R² Score: {cv_scores.mean():.4f}\")"
   ]
  },
  {
   "cell_type": "code",
   "execution_count": null,
   "metadata": {},
   "outputs": [],
   "source": [
    "importances = rf_model.feature_importances_\n",
    "feature_names = X.columns\n",
    "feature_importance_df = pd.DataFrame({'Feature': feature_names, 'Importance': importances})\n",
    "feature_importance_df.sort_values(by='Importance', ascending=False, inplace=True)\n",
    "print(feature_importance_df)"
   ]
  },
  {
   "cell_type": "code",
   "execution_count": null,
   "metadata": {},
   "outputs": [],
   "source": [
    "# Barplot\n",
    "features = ['MD_FAMINC', 'AVGFACSAL', 'completion_rate', 'DEBT_MDN']\n",
    "importances = [0.444224, 0.211513, 0.057134, 0.044572]\n",
    "\n",
    "# Create the bar plot\n",
    "plt.figure(figsize=(10, 6))\n",
    "plt.barh(features, importances, edgecolor='black')\n",
    "plt.xlabel('Feature Importance')\n",
    "plt.title('Figure 6: Feature Importance in Random Forest Model')\n",
    "plt.gca().invert_yaxis()\n",
    "plt.show()"
   ]
  },
  {
   "cell_type": "markdown",
   "metadata": {},
   "source": [
    "### Model Summary and Interpretation (Random Forest)\n",
    "\n",
    "- **Mean Squared Error (MSE)**: The test set MSE is approximately 29,634,976, which represents the average squared difference between actual and predicted earnings.\n",
    "- **Root Mean Squared Error (RMSE)**: The test set RMSE is around 5,443, indicating the average prediction error in the unit of earnings. This provides a more interpretable metric than MSE.\n",
    "- **R-squared (R²)**: The test set R² score is 0.7631, meaning the model explains about 76.31% of the variance in median earnings on the test data, indicating strong predictive power.\n",
    "- **Cross-Validation R² Scores**: The cross-validation R² scores ranged from 0.529 to 0.796, with a mean score of 0.7062. This variation suggests that the model may be slightly overfitting, but it still generalizes reasonably well across different subsets of the data.\n",
    "\n",
    "- **Feature Importances**:\n",
    "  - **MD_FAMINC (Family Income)** is the most important feature with an importance score of 0.444, suggesting a strong relationship with median earnings.\n",
    "  - **AVGFACSAL (Average Faculty Salary)** and **STEM_Index** also have significant contributions, with importance scores of 0.211 and 0.092, respectively.\n",
    "  - Features like **completion_rate**, **DEBT_MDN (Median Debt)**, and **UGDS (Undergraduate Enrollment)** provide additional predictive power, though to a lesser extent.\n",
    "\n",
    "- **Dropping `public_private`**: The feature `public_private` was dropped due to its low feature importance in the initial model setup, indicating it does not significantly contribute to the predictive accuracy.\n",
    "\n",
    "The results highlight **Family Income** and **Average Faculty Salary** as the most influential factors in predicting earnings, with **STEM_Index** added as a proxy to boost predictive power. These findings suggest that socioeconomic factors and institutional resources play a critical role in graduates’ median earnings 10 years after enrollment.\n"
   ]
  },
  {
   "cell_type": "markdown",
   "metadata": {},
   "source": [
    "### Hyperparameter Tuning\n",
    "\n",
    "To improve the model's performance, we performed hyperparameter tuning using `RandomizedSearchCV`. This approach tests multiple combinations of hyperparameters to find the best-performing set. The parameters tuned include:\n",
    "- **n_estimators**: Number of trees in the forest\n",
    "- **max_depth**: Maximum depth of each tree\n",
    "- **min_samples_split**: Minimum number of samples required to split an internal node\n",
    "- **min_samples_leaf**: Minimum number of samples required to be at a leaf node\n",
    "- **max_features**: Number of features to consider when looking for the best split\n",
    "\n",
    "After running RandomizedSearchCV with 5-fold cross-validation, we selected the best parameters and evaluated the tuned model's performance on the test set.\n"
   ]
  },
  {
   "cell_type": "code",
   "execution_count": null,
   "metadata": {},
   "outputs": [],
   "source": [
    "# Refine the parameter grid based on the best found parameters\n",
    "param_dist = {\n",
    "    'n_estimators': [150, 200, 250],  # Narrowing around the best n_estimators found\n",
    "    'max_depth': [15, 20, 25],        # Fine-tuning around the best max_depth found\n",
    "    'min_samples_split': [2, 5],      # Exploring small changes in min_samples_split\n",
    "    'min_samples_leaf': [1, 2],       # Testing small changes in min_samples_leaf\n",
    "    'max_features': ['sqrt', 'log2']  # Only valid options for max_features\n",
    "}\n",
    "\n",
    "# Initialize the RandomForestRegressor\n",
    "rf = RandomForestRegressor(random_state=42)\n",
    "\n",
    "# RandomizedSearchCV with 5-fold cross-validation\n",
    "random_search = RandomizedSearchCV(estimator=rf, param_distributions=param_dist,\n",
    "                                   n_iter=10,  # Number of random combinations to test\n",
    "                                   cv=5, random_state=42, n_jobs=-1, verbose=2)\n",
    "\n",
    "# Fit the model to your training data\n",
    "random_search.fit(X_train, y_train)\n",
    "\n",
    "# Best hyperparameters from the random search\n",
    "print(\"Best Hyperparameters:\", random_search.best_params_)\n",
    "\n",
    "# Evaluate the best model on the test set\n",
    "best_rf = random_search.best_estimator_\n",
    "y_pred = best_rf.predict(X_test)\n",
    "print(\"Tuned Random Forest MSE:\", mean_squared_error(y_test, y_pred))\n",
    "print(\"Tuned Random Forest R-squared:\", r2_score(y_test, y_pred))"
   ]
  },
  {
   "cell_type": "markdown",
   "metadata": {},
   "source": [
    "### Tuned Model Performance Evaluation\n",
    "\n",
    "The best hyperparameters found were:\n",
    "- **n_estimators**: 250\n",
    "- **max_depth**: 25\n",
    "- **min_samples_split**: 2\n",
    "- **min_samples_leaf**: 1\n",
    "- **max_features**: 'log2'\n",
    "\n",
    "The tuned Random Forest model achieved the following performance metrics on the test set:\n",
    "- **Mean Squared Error (MSE)**: 28,803,835.27\n",
    "- **R-squared (R²)**: 0.7697\n",
    "\n",
    "These metrics indicate an improvement in the model's ability to predict median earnings. The R² score of 0.7697 shows that the tuned model explains approximately 76.97% of the variance in median earnings, which is slightly higher than the baseline model, suggesting better predictive performance.\n"
   ]
  },
  {
   "cell_type": "markdown",
   "metadata": {},
   "source": [
    "### Final Model Training and Saving\n",
    "\n",
    "Using the best hyperparameters from the tuning process, we retrained the Random Forest model on the entire dataset to maximize its predictive power. This final model is saved as a `.pkl` file using `joblib`, allowing us to easily load it for future predictions or analysis without retraining.\n",
    "\n",
    "The final model can now be used to predict median earnings for new data with similar features.\n"
   ]
  },
  {
   "cell_type": "code",
   "execution_count": null,
   "metadata": {},
   "outputs": [],
   "source": [
    "# Best hyperparameters found from tuning\n",
    "final_model = RandomForestRegressor(\n",
    "    n_estimators=250,\n",
    "    min_samples_split=2,\n",
    "    min_samples_leaf=1,\n",
    "    max_features='log2',\n",
    "    max_depth=25,\n",
    "    random_state=42\n",
    ")\n",
    "\n",
    "# Fit the final model on the entire dataset (X, y)\n",
    "final_model.fit(X, y)\n",
    "\n",
    "# Save the final model to a file\n",
    "joblib.dump(final_model, 'final_random_forest_model.pkl')\n",
    "\n",
    "print(\"Final model trained and saved.\")"
   ]
  },
  {
   "cell_type": "markdown",
   "metadata": {},
   "source": [
    "## Conclusion\n",
    "\n",
    "This analysis provides insights into factors that significantly influence median earnings for college graduates 10 years after enrollment. The findings underscore the importance of several institutional characteristics and socioeconomic factors, leading to actionable recommendations for both colleges and prospective students.\n",
    "\n",
    "1. **Support Low-Income Students**: Institutions with a higher proportion of Pell Grant recipients tend to see lower post-graduation earnings among graduates. To bridge this earnings gap, colleges should implement robust support systems tailored to low-income students, including career counseling, financial literacy programs, and mentorship opportunities. For students, especially those from low-income backgrounds, selecting institutions with established support structures can positively impact long-term earnings outcomes.\n",
    "\n",
    "2. **Invest in Faculty**: The analysis reveals a positive correlation between faculty salary and graduate earnings. Higher faculty salaries may signal a commitment to faculty quality, which can lead to better educational outcomes and increased earnings potential for students. Institutions should prioritize faculty investment to enhance educational quality, while students should consider faculty quality as an important factor when evaluating colleges.\n",
    "\n",
    "3. **Enhance Retention Programs**: Higher completion rates are associated with stronger financial outcomes post-graduation. Colleges should focus on retention strategies, such as advising, mental health resources, and academic support, to help students persist through graduation. For students, seeking out colleges with high retention rates and strong graduation support services may lead to better financial outcomes after graduation.\n",
    "\n",
    "4. **Reduce Financial Barriers**: While debt levels have a modest impact on earnings, minimizing student debt can alleviate financial stress for graduates. Colleges are encouraged to expand need-based financial aid options to reduce student reliance on loans. Students can also take steps to limit debt by exploring grants, work-study programs, and other funding sources that reduce the need for borrowing.\n",
    "\n",
    "### Implications for Future Research and Policy\n",
    "\n",
    "Future research could explore the long-term effects of support programs and financial aid policies on graduate earnings to deepen understanding of how institutional characteristics impact student success. Policymakers may also consider these findings when shaping education funding policies to support equitable outcomes for all students.\n"
   ]
  }
 ],
 "metadata": {
  "kernelspec": {
   "display_name": "envPython312",
   "language": "python",
   "name": "python3"
  },
  "language_info": {
   "codemirror_mode": {
    "name": "ipython",
    "version": 3
   },
   "file_extension": ".py",
   "mimetype": "text/x-python",
   "name": "python",
   "nbconvert_exporter": "python",
   "pygments_lexer": "ipython3",
   "version": "3.12.5"
  }
 },
 "nbformat": 4,
 "nbformat_minor": 2
}
